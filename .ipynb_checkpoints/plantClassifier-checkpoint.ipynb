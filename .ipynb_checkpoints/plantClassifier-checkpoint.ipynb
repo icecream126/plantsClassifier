{
 "cells": [
  {
   "cell_type": "code",
   "execution_count": null,
   "metadata": {},
   "outputs": [],
   "source": [
    "#import fastai.vision.all and vision.widgets to create widgets\n",
    "from fastai.vision.all import *\n",
    "from fastai.vision.widgets import *"
   ]
  },
  {
   "cell_type": "markdown",
   "metadata": {},
   "source": [
    "#Amazing Plant Classifier!\n",
    "Do you want to know what your plant is? Then this is a great place. You can take a pic of your plant and upload it through upload button. \n",
    "(Important : It may not give sensible answer to plants which are not tree, cactus, or succulent.)"
   ]
  },
  {
   "cell_type": "code",
   "execution_count": null,
   "metadata": {},
   "outputs": [],
   "source": [
    "path = Path()\n",
    "learn_inf = load_learner(path/'export.pkl', cpu=True)\n",
    "#declare a button,output,label widget\n",
    "btn_upload = widgets.FileUpload()\n",
    "out_pl = widgets.Output()\n",
    "lbl_pred = widgets.Label()\n",
    "#define an on_data_change function which execute when an image is #uploaded.It gets the image uploaded,display the image,make a #prediction of the image and output prediction, probability of #predictions\n",
    "def on_data_change(change):    \n",
    "    lbl_pred.value = ''     \n",
    "    img = PILImage.create(btn_upload.data[-1])     \n",
    "    out_pl.clear_output()     \n",
    "    with out_pl: display(img.to_thumb(128,128))     \n",
    "    pred,pred_idx,probs = learn_inf.predict(img)    \n",
    "    lbl_pred.value = f'Prediction: {pred}; Probability:{probs[pred_idx]:.04f}'\n",
    "#button to click to upload image\n",
    "btn_upload.observe(on_data_change, names=['data'])\n",
    "#display label,btn_upload,out_pl,lbl_pred vertically\n",
    "display(VBox([widgets.Label('Select an Image of Your Plants!'), btn_upload, out_pl, lbl_pred]))"
   ]
  }
 ],
 "metadata": {
  "kernelspec": {
   "display_name": "Python 3",
   "language": "python",
   "name": "python3"
  },
  "language_info": {
   "codemirror_mode": {
    "name": "ipython",
    "version": 3
   },
   "file_extension": ".py",
   "mimetype": "text/x-python",
   "name": "python",
   "nbconvert_exporter": "python",
   "pygments_lexer": "ipython3",
   "version": "3.7.9"
  }
 },
 "nbformat": 4,
 "nbformat_minor": 4
}
